{
 "cells": [
  {
   "cell_type": "markdown",
   "id": "477c5719",
   "metadata": {},
   "source": [
    "# Generation of Synthetic Data"
   ]
  },
  {
   "cell_type": "markdown",
   "id": "46c52ecf",
   "metadata": {},
   "source": [
    "## Using Random Approach"
   ]
  },
  {
   "cell_type": "code",
   "execution_count": 1,
   "id": "4adf47d0",
   "metadata": {},
   "outputs": [],
   "source": [
    "#Importing the necessary libraries\n",
    "import pandas as pd\n",
    "import random"
   ]
  },
  {
   "cell_type": "code",
   "execution_count": 2,
   "id": "c5bda2a9",
   "metadata": {},
   "outputs": [],
   "source": [
    "minimum = []\n",
    "maximum = []"
   ]
  },
  {
   "cell_type": "code",
   "execution_count": 3,
   "id": "2a5fc7d3",
   "metadata": {},
   "outputs": [],
   "source": [
    "def get_min_max(df):\n",
    "    \"\"\"Get the minimum and maximum value of each of the dissolved gases as obtained practically\"\"\"\n",
    "    for column in df.columns:\n",
    "        minimum.append(df[column].min())\n",
    "        maximum.append(df[column].max())\n",
    "    return minimum[:5], maximum[:5]"
   ]
  },
  {
   "cell_type": "code",
   "execution_count": 4,
   "id": "afaf868f",
   "metadata": {},
   "outputs": [],
   "source": [
    "def write_csv(df, name):\n",
    "    \"\"\"To write a csv file with gien name\"\"\"\n",
    "    df.to_csv(name + \".csv\", index=False)"
   ]
  },
  {
   "cell_type": "code",
   "execution_count": 5,
   "id": "388fc82d",
   "metadata": {},
   "outputs": [],
   "source": [
    "def data_generator(minimum, maximum, column_names):\n",
    "    \"\"\"Used to generate a dataframe with synthetic data and write it into a csv file\"\"\"\n",
    "    df = pd.DataFrame(columns = column_names)\n",
    "    row = 0\n",
    "    while row < 100000:\n",
    "        for i in range(0,len(minimum)):\n",
    "            column_name = df.columns[i]\n",
    "            df.loc[str(row), column_name] = round(random.uniform(minimum[i], maximum[i]), 2)\n",
    "        row += 1\n",
    "    \n",
    "    write_csv(df,\"Synthetic_Data_Random_Approach\")"
   ]
  },
  {
   "cell_type": "code",
   "execution_count": 6,
   "id": "faea5181",
   "metadata": {},
   "outputs": [],
   "source": [
    "def print_min_max(minimum, maximum, column_names):\n",
    "    \"\"\"Prints the column nae and corresponding minimum and maximum values\"\"\"\n",
    "    for i in range(0,len(minimum)):\n",
    "        print(\"Values of \", column_names[i], \" =\")\n",
    "        print(\"Minimum = \", minimum[i])\n",
    "        print(\"Maximum = \", maximum[i])"
   ]
  },
  {
   "cell_type": "code",
   "execution_count": 7,
   "id": "1e4f2828",
   "metadata": {},
   "outputs": [
    {
     "name": "stdout",
     "output_type": "stream",
     "text": [
      "Values of  H2  =\n",
      "Minimum =  0.0\n",
      "Maximum =  487297.0\n",
      "Values of  CH4  =\n",
      "Minimum =  0.0\n",
      "Maximum =  449556.0\n",
      "Values of  C2H2  =\n",
      "Minimum =  0.0\n",
      "Maximum =  683643.0\n",
      "Values of  C2H4  =\n",
      "Minimum =  0.0\n",
      "Maximum =  478904.0\n",
      "Values of  C2H6  =\n",
      "Minimum =  0.0\n",
      "Maximum =  404053.0\n"
     ]
    }
   ],
   "source": [
    "if __name__ == \"__main__\":\n",
    "    df = pd.read_csv(\"Consolidated_Actual_Fault_Data.csv\")\n",
    "    minimum, maximum = get_min_max(df)\n",
    "    print_min_max(minimum, maximum, df.columns)\n",
    "    data_generator(minimum, maximum, df.columns)"
   ]
  },
  {
   "cell_type": "code",
   "execution_count": null,
   "id": "14de88cd",
   "metadata": {},
   "outputs": [],
   "source": []
  }
 ],
 "metadata": {
  "kernelspec": {
   "display_name": "Python 3 (ipykernel)",
   "language": "python",
   "name": "python3"
  },
  "language_info": {
   "codemirror_mode": {
    "name": "ipython",
    "version": 3
   },
   "file_extension": ".py",
   "mimetype": "text/x-python",
   "name": "python",
   "nbconvert_exporter": "python",
   "pygments_lexer": "ipython3",
   "version": "3.9.12"
  }
 },
 "nbformat": 4,
 "nbformat_minor": 5
}
